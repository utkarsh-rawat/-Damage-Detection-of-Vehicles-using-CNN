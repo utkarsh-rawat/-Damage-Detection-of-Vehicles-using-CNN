{
 "cells": [
  {
   "cell_type": "markdown",
   "id": "ed095040",
   "metadata": {},
   "source": [
    "# Making validation data"
   ]
  },
  {
   "cell_type": "code",
   "execution_count": 1,
   "id": "56570c32",
   "metadata": {},
   "outputs": [],
   "source": [
    "import matplotlib.image as mpimg\n",
    "import matplotlib.pyplot as plt\n",
    " \n",
    "# Read Images\n",
    "image_val = []\n",
    "for i in range(561,682):\n",
    "    img = mpimg.imread('C:/Users/tapan/OneDrive/Desktop/ML/Train/'+str(i)+'.jpeg')\n",
    "    image_val.append(img)\n",
    "\n",
    " \n",
    "# Output Images\n",
    "#plt.imshow(img)"
   ]
  },
  {
   "cell_type": "code",
   "execution_count": 2,
   "id": "d1b3b4ed",
   "metadata": {},
   "outputs": [],
   "source": [
    "import numpy as np\n",
    "import pandas as pd"
   ]
  },
  {
   "cell_type": "code",
   "execution_count": 3,
   "id": "34d85d0e",
   "metadata": {},
   "outputs": [],
   "source": [
    "X_val = np.array(image_val)\n"
   ]
  },
  {
   "cell_type": "code",
   "execution_count": 4,
   "id": "41597465",
   "metadata": {},
   "outputs": [
    {
     "data": {
      "text/plain": [
       "(121, 224, 224, 3)"
      ]
     },
     "execution_count": 4,
     "metadata": {},
     "output_type": "execute_result"
    }
   ],
   "source": [
    "X_val.shape"
   ]
  },
  {
   "cell_type": "markdown",
   "id": "8e278d10",
   "metadata": {},
   "source": [
    "# Making Testing data"
   ]
  },
  {
   "cell_type": "code",
   "execution_count": 5,
   "id": "e91935dc",
   "metadata": {},
   "outputs": [],
   "source": [
    " \n",
    "# Read Images\n",
    "image_test = []\n",
    "for i in range(682,801,1):\n",
    "    img = mpimg.imread('C:/Users/tapan/OneDrive/Desktop/ML/Train/'+str(i)+'.jpeg')\n",
    "    image_test.append(img)\n",
    "\n",
    " \n",
    "# Output Images\n",
    "#plt.imshow(img)"
   ]
  },
  {
   "cell_type": "code",
   "execution_count": 6,
   "id": "36702c14",
   "metadata": {},
   "outputs": [],
   "source": [
    "X_test = np.array(image_test)\n"
   ]
  },
  {
   "cell_type": "code",
   "execution_count": 7,
   "id": "cdbcc7f6",
   "metadata": {},
   "outputs": [
    {
     "data": {
      "text/plain": [
       "(119, 224, 224, 3)"
      ]
     },
     "execution_count": 7,
     "metadata": {},
     "output_type": "execute_result"
    }
   ],
   "source": [
    "X_test.shape"
   ]
  },
  {
   "cell_type": "markdown",
   "id": "0c884219",
   "metadata": {},
   "source": [
    "# Making Training data"
   ]
  },
  {
   "cell_type": "code",
   "execution_count": 8,
   "id": "0ff41dff",
   "metadata": {},
   "outputs": [],
   "source": [
    "# Read Images\n",
    "image_train = []\n",
    "for i in range(561):\n",
    "    img = mpimg.imread('C:/Users/tapan/OneDrive/Desktop/ML/Train/'+str(i)+'.jpeg')\n",
    "    image_train.append(img)\n",
    "\n",
    " \n",
    "# Output Images\n",
    "#plt.imshow(img)"
   ]
  },
  {
   "cell_type": "code",
   "execution_count": 9,
   "id": "90967d72",
   "metadata": {},
   "outputs": [
    {
     "data": {
      "text/plain": [
       "(561, 224, 224, 3)"
      ]
     },
     "execution_count": 9,
     "metadata": {},
     "output_type": "execute_result"
    }
   ],
   "source": [
    "X_train = np.array(image_train)\n",
    "X_train.shape"
   ]
  },
  {
   "cell_type": "markdown",
   "id": "fef0ae7d",
   "metadata": {},
   "source": [
    "# labels set"
   ]
  },
  {
   "cell_type": "code",
   "execution_count": 10,
   "id": "50e48508",
   "metadata": {},
   "outputs": [],
   "source": [
    "df = pd.read_excel('Downloads/UPDATED_1_training_label.xlsx')"
   ]
  },
  {
   "cell_type": "code",
   "execution_count": 11,
   "id": "1a5b68e4",
   "metadata": {},
   "outputs": [],
   "source": [
    "df.drop(['image','Unnamed: 4','class','Unnamed: 2','Unnamed: 3','Unnamed: 5','Unnamed: 6'],axis=1,inplace=True)"
   ]
  },
  {
   "cell_type": "code",
   "execution_count": 12,
   "id": "3de0f4ff",
   "metadata": {},
   "outputs": [
    {
     "data": {
      "text/html": [
       "<div>\n",
       "<style scoped>\n",
       "    .dataframe tbody tr th:only-of-type {\n",
       "        vertical-align: middle;\n",
       "    }\n",
       "\n",
       "    .dataframe tbody tr th {\n",
       "        vertical-align: top;\n",
       "    }\n",
       "\n",
       "    .dataframe thead th {\n",
       "        text-align: right;\n",
       "    }\n",
       "</style>\n",
       "<table border=\"1\" class=\"dataframe\">\n",
       "  <thead>\n",
       "    <tr style=\"text-align: right;\">\n",
       "      <th></th>\n",
       "      <th>dent</th>\n",
       "      <th>head_lamp</th>\n",
       "      <th>scratch</th>\n",
       "      <th>glass_shatter</th>\n",
       "      <th>tail_lamp</th>\n",
       "      <th>unknown</th>\n",
       "    </tr>\n",
       "  </thead>\n",
       "  <tbody>\n",
       "    <tr>\n",
       "      <th>0</th>\n",
       "      <td>1</td>\n",
       "      <td>1</td>\n",
       "      <td>0</td>\n",
       "      <td>0</td>\n",
       "      <td>0</td>\n",
       "      <td>0</td>\n",
       "    </tr>\n",
       "    <tr>\n",
       "      <th>1</th>\n",
       "      <td>0</td>\n",
       "      <td>1</td>\n",
       "      <td>0</td>\n",
       "      <td>0</td>\n",
       "      <td>0</td>\n",
       "      <td>0</td>\n",
       "    </tr>\n",
       "    <tr>\n",
       "      <th>2</th>\n",
       "      <td>0</td>\n",
       "      <td>0</td>\n",
       "      <td>1</td>\n",
       "      <td>0</td>\n",
       "      <td>0</td>\n",
       "      <td>0</td>\n",
       "    </tr>\n",
       "    <tr>\n",
       "      <th>3</th>\n",
       "      <td>0</td>\n",
       "      <td>1</td>\n",
       "      <td>0</td>\n",
       "      <td>0</td>\n",
       "      <td>0</td>\n",
       "      <td>0</td>\n",
       "    </tr>\n",
       "    <tr>\n",
       "      <th>4</th>\n",
       "      <td>0</td>\n",
       "      <td>0</td>\n",
       "      <td>0</td>\n",
       "      <td>0</td>\n",
       "      <td>0</td>\n",
       "      <td>1</td>\n",
       "    </tr>\n",
       "  </tbody>\n",
       "</table>\n",
       "</div>"
      ],
      "text/plain": [
       "   dent   head_lamp  scratch  glass_shatter  tail_lamp  unknown\n",
       "0     1           1        0              0          0        0\n",
       "1     0           1        0              0          0        0\n",
       "2     0           0        1              0          0        0\n",
       "3     0           1        0              0          0        0\n",
       "4     0           0        0              0          0        1"
      ]
     },
     "execution_count": 12,
     "metadata": {},
     "output_type": "execute_result"
    }
   ],
   "source": [
    "df.head()"
   ]
  },
  {
   "cell_type": "code",
   "execution_count": 13,
   "id": "fee19a6a",
   "metadata": {},
   "outputs": [],
   "source": [
    "y_train = df[:561]"
   ]
  },
  {
   "cell_type": "code",
   "execution_count": 14,
   "id": "0c2686fa",
   "metadata": {},
   "outputs": [
    {
     "data": {
      "text/plain": [
       "561"
      ]
     },
     "execution_count": 14,
     "metadata": {},
     "output_type": "execute_result"
    }
   ],
   "source": [
    "len(y_train)"
   ]
  },
  {
   "cell_type": "code",
   "execution_count": 15,
   "id": "001299a8",
   "metadata": {},
   "outputs": [
    {
     "data": {
      "text/plain": [
       "119"
      ]
     },
     "execution_count": 15,
     "metadata": {},
     "output_type": "execute_result"
    }
   ],
   "source": [
    "y_test = df[682:801]\n",
    "len(y_test)"
   ]
  },
  {
   "cell_type": "code",
   "execution_count": 16,
   "id": "236f3f6f",
   "metadata": {},
   "outputs": [
    {
     "data": {
      "text/plain": [
       "121"
      ]
     },
     "execution_count": 16,
     "metadata": {},
     "output_type": "execute_result"
    }
   ],
   "source": [
    "y_val = df[561:682]\n",
    "len(y_val)"
   ]
  },
  {
   "cell_type": "code",
   "execution_count": 17,
   "id": "c6656f09",
   "metadata": {},
   "outputs": [],
   "source": [
    "y_train = np.array(y_train)\n",
    "y_val = np.array(y_val)\n",
    "y_test = np.array(y_test)"
   ]
  },
  {
   "cell_type": "code",
   "execution_count": 18,
   "id": "01b12cc1",
   "metadata": {},
   "outputs": [
    {
     "data": {
      "text/plain": [
       "(119, 6)"
      ]
     },
     "execution_count": 18,
     "metadata": {},
     "output_type": "execute_result"
    }
   ],
   "source": [
    "y_test.shape"
   ]
  },
  {
   "cell_type": "code",
   "execution_count": 19,
   "id": "f3ad6ccf",
   "metadata": {},
   "outputs": [],
   "source": [
    "X_train = X_train/255\n",
    "X_val = X_val/255\n",
    "X_test = X_test/255"
   ]
  },
  {
   "cell_type": "markdown",
   "id": "574d3570",
   "metadata": {},
   "source": [
    "# Bulding Model"
   ]
  },
  {
   "cell_type": "code",
   "execution_count": 20,
   "id": "3290e11b",
   "metadata": {},
   "outputs": [],
   "source": [
    "import tensorflow as tf\n",
    "from tensorflow import keras\n",
    "from tensorflow.keras import layers\n",
    "from tensorflow.keras import Sequential"
   ]
  },
  {
   "cell_type": "code",
   "execution_count": 23,
   "id": "71b1fb70",
   "metadata": {},
   "outputs": [],
   "source": [
    "np.random.seed(23)\n",
    "model = Sequential([layers.Conv2D(25,(3,3), padding='same',strides=(1,1),kernel_regularizer=keras.regularizers.l2(0.01), activation='relu', kernel_initializer='he_uniform', input_shape=[224,224,3]),\n",
    "layers.MaxPooling2D(pool_size=(2, 2)),\n",
    "layers.BatchNormalization(center=True, scale=True),\n",
    "layers.Dropout(0.5),\n",
    "#layers.Conv2D(50, (3,3), padding='same',strides = (1,1),activation='relu',kernel_regularizer=keras.regularizers.l2(0.01), kernel_initializer='he_uniform'),\n",
    "#layers.MaxPooling2D(pool_size=(2, 2)),\n",
    "layers.Conv2D(70, (3,3), padding='same',strides = (1,1),activation='relu',kernel_regularizer=keras.regularizers.l2(0.01), kernel_initializer='he_uniform'),\n",
    "layers.MaxPooling2D(pool_size=(2, 2)),\n",
    "layers.BatchNormalization(center=True, scale=True),\n",
    "layers.Dropout(0.5),\n",
    "layers.Flatten(),\n",
    "layers.Dense(256, activation='relu', kernel_initializer='he_uniform'),\n",
    "layers.Dense(256, activation='relu', kernel_initializer='he_uniform'),\n",
    "\n",
    "layers.Dense(6, activation='sigmoid')])\n"
   ]
  },
  {
   "cell_type": "code",
   "execution_count": 84,
   "id": "9628c988",
   "metadata": {},
   "outputs": [
    {
     "name": "stdout",
     "output_type": "stream",
     "text": [
      "Model: \"sequential_14\"\n",
      "_________________________________________________________________\n",
      " Layer (type)                Output Shape              Param #   \n",
      "=================================================================\n",
      " conv2d_34 (Conv2D)          (None, 224, 224, 25)      700       \n",
      "                                                                 \n",
      " max_pooling2d_29 (MaxPoolin  (None, 112, 112, 25)     0         \n",
      " g2D)                                                            \n",
      "                                                                 \n",
      " batch_normalization_29 (Bat  (None, 112, 112, 25)     100       \n",
      " chNormalization)                                                \n",
      "                                                                 \n",
      " dropout_29 (Dropout)        (None, 112, 112, 25)      0         \n",
      "                                                                 \n",
      " conv2d_35 (Conv2D)          (None, 112, 112, 70)      15820     \n",
      "                                                                 \n",
      " max_pooling2d_30 (MaxPoolin  (None, 56, 56, 70)       0         \n",
      " g2D)                                                            \n",
      "                                                                 \n",
      " batch_normalization_30 (Bat  (None, 56, 56, 70)       280       \n",
      " chNormalization)                                                \n",
      "                                                                 \n",
      " dropout_30 (Dropout)        (None, 56, 56, 70)        0         \n",
      "                                                                 \n",
      " flatten_14 (Flatten)        (None, 219520)            0         \n",
      "                                                                 \n",
      " dense_42 (Dense)            (None, 256)               56197376  \n",
      "                                                                 \n",
      " dense_43 (Dense)            (None, 256)               65792     \n",
      "                                                                 \n",
      " dense_44 (Dense)            (None, 6)                 1542      \n",
      "                                                                 \n",
      "=================================================================\n",
      "Total params: 56,281,610\n",
      "Trainable params: 56,281,420\n",
      "Non-trainable params: 190\n",
      "_________________________________________________________________\n",
      "Epoch 1/10\n",
      "18/18 [==============================] - 36s 2s/step - loss: 6.7537 - accuracy: 0.2745 - val_loss: 4.3457 - val_accuracy: 0.1901\n",
      "Epoch 2/10\n",
      "18/18 [==============================] - 33s 2s/step - loss: 3.1661 - accuracy: 0.5365 - val_loss: 6.1549 - val_accuracy: 0.0826\n",
      "Epoch 3/10\n",
      "18/18 [==============================] - 36s 2s/step - loss: 2.3064 - accuracy: 0.6952 - val_loss: 8.3177 - val_accuracy: 0.0826\n",
      "Epoch 4/10\n",
      "18/18 [==============================] - 33s 2s/step - loss: 1.8785 - accuracy: 0.7754 - val_loss: 10.3843 - val_accuracy: 0.0826\n",
      "Epoch 5/10\n",
      "18/18 [==============================] - 33s 2s/step - loss: 1.7047 - accuracy: 0.8235 - val_loss: 8.9680 - val_accuracy: 0.1901\n",
      "Epoch 6/10\n",
      "18/18 [==============================] - 34s 2s/step - loss: 1.5789 - accuracy: 0.8538 - val_loss: 10.4994 - val_accuracy: 0.0826\n",
      "Epoch 7/10\n",
      "18/18 [==============================] - 38s 2s/step - loss: 1.4913 - accuracy: 0.8467 - val_loss: 12.6681 - val_accuracy: 0.1901\n",
      "Epoch 8/10\n",
      "18/18 [==============================] - 36s 2s/step - loss: 1.4165 - accuracy: 0.8396 - val_loss: 12.0056 - val_accuracy: 0.0826\n",
      "Epoch 9/10\n",
      "18/18 [==============================] - 35s 2s/step - loss: 1.3598 - accuracy: 0.8895 - val_loss: 17.7052 - val_accuracy: 0.0826\n",
      "Epoch 10/10\n",
      "18/18 [==============================] - 34s 2s/step - loss: 1.3144 - accuracy: 0.8414 - val_loss: 14.2608 - val_accuracy: 0.1901\n"
     ]
    }
   ],
   "source": [
    "# Compile the model\n",
    "model.compile(loss= tf.keras.losses.BinaryCrossentropy(),\n",
    "              optimizer=keras.optimizers.Adam(learning_rate=0.001),\n",
    "              metrics=['accuracy'])\n",
    "model.summary()\n",
    "# Fit data to model\n",
    "history = model.fit(X_train, y_train,validation_data=(X_val,y_val),\n",
    "            batch_size=32,\n",
    "            epochs=10,\n",
    "            verbose=1,\n",
    "            )"
   ]
  },
  {
   "cell_type": "code",
   "execution_count": 88,
   "id": "441e83e6",
   "metadata": {},
   "outputs": [
    {
     "data": {
      "text/plain": [
       "<AxesSubplot:>"
      ]
     },
     "execution_count": 88,
     "metadata": {},
     "output_type": "execute_result"
    },
    {
     "data": {
      "text/plain": [
       "<Figure size 720x1080 with 0 Axes>"
      ]
     },
     "metadata": {},
     "output_type": "display_data"
    },
    {
     "data": {
      "image/png": "[encoded data removed]",
      "text/plain": [
       "<Figure size 432x288 with 1 Axes>"
      ]
     },
     "metadata": {
      "needs_background": "light"
     },
     "output_type": "display_data"
    }
   ],
   "source": [
    "\n",
    "looses = model.history.history\n",
    "loos = pd.DataFrame(looses)\n",
    "loos.plot()"
   ]
  },
  {
   "cell_type": "markdown",
   "id": "dda96f6e",
   "metadata": {},
   "source": [
    "# Hyperparmeter Tunning"
   ]
  },
  {
   "cell_type": "code",
   "execution_count": 2,
   "id": "df75935f",
   "metadata": {},
   "outputs": [],
   "source": [
    "from sklearn.model_selection import GridSearchCV\n",
    "from tensorflow.keras.wrappers.scikit_learn import KerasClassifier\n",
    "from tensorflow.keras import Sequential\n",
    "from tensorflow.keras.layers import Dense,Dropout\n",
    "from tensorflow.keras.optimizers import RMSprop\n",
    "import numpy as np"
   ]
  },
  {
   "cell_type": "code",
   "execution_count": 1,
   "id": "a2c8aa15",
   "metadata": {},
   "outputs": [
    {
     "name": "stdout",
     "output_type": "stream",
     "text": [
      "Collecting package metadata (current_repodata.json): ...working... done\n",
      "Solving environment: ...working... failed with initial frozen solve. Retrying with flexible solve.\n",
      "Collecting package metadata (repodata.json): ...working... done\n",
      "Solving environment: ...working... failed with initial frozen solve. Retrying with flexible solve.\n",
      "\n",
      "Note: you may need to restart the kernel to use updated packages.\n"
     ]
    },
    {
     "name": "stderr",
     "output_type": "stream",
     "text": [
      "\n",
      "PackagesNotFoundError: The following packages are not available from current channels:\n",
      "\n",
      "  - scikeras\n",
      "\n",
      "Current channels:\n",
      "\n",
      "  - https://repo.anaconda.com/pkgs/main/win-64\n",
      "  - https://repo.anaconda.com/pkgs/main/noarch\n",
      "  - https://repo.anaconda.com/pkgs/r/win-64\n",
      "  - https://repo.anaconda.com/pkgs/r/noarch\n",
      "  - https://repo.anaconda.com/pkgs/msys2/win-64\n",
      "  - https://repo.anaconda.com/pkgs/msys2/noarch\n",
      "\n",
      "To search for alternate channels that may provide the conda package you're\n",
      "looking for, navigate to\n",
      "\n",
      "    https://anaconda.org\n",
      "\n",
      "and use the search bar at the top of the page.\n",
      "\n",
      "\n"
     ]
    }
   ],
   "source": [
    "conda install scikeras[tensorflow]"
   ]
  },
  {
   "cell_type": "code",
   "execution_count": 3,
   "id": "fa40ea2d",
   "metadata": {},
   "outputs": [],
   "source": [
    "def create_model(init_mode='uniform'):\n",
    "    # define model\n",
    "    model = Sequential([layers.Conv2D(64,7, strides=2, activation='relu', kernel_initializer='he_uniform', input_shape=[224,224,3]),\n",
    "    layers.MaxPooling2D(2),\n",
    "    layers.BatchNormalization(center=True, scale=True),\n",
    "    layers.Dropout(0.5),\n",
    "    layers.Conv2D(64, kernel_size=(3, 3), activation='relu', kernel_initializer='he_uniform'),\n",
    "    layers.MaxPooling2D(2),\n",
    "    layers.BatchNormalization(center=True, scale=True),\n",
    "    layers.Dropout(0.5),\n",
    "    layers.Flatten(),\n",
    "    layers.Dense(128, activation='relu', kernel_initializer='he_uniform'),\n",
    "    layers.Dropout(0.5),\n",
    "    layers.Dense(64, activation='relu', kernel_initializer='he_uniform'),\n",
    "    layers.Dropout(0.5),\n",
    "    layers.Dense(32, activation='relu', kernel_initializer='he_uniform'),\n",
    "    layers.Dense(6, activation='sigmoid')])\n",
    "    # compile model\n",
    "    model.compile(loss='categorical_crossentropy',\n",
    "              optimizer=Adam(),\n",
    "              metrics=['accuracy'])\n",
    "    return model"
   ]
  },
  {
   "cell_type": "code",
   "execution_count": null,
   "id": "512c8cc9",
   "metadata": {},
   "outputs": [],
   "source": [
    "np.random.seed(20)\n",
    "init_mode = ['glorot_uniform', 'uniform'] \n",
    "batches = [16,32,64]\n",
    "epochs = [10, 20,30,40,50]\n",
    "model_CV = KerasClassifier(build_fn=create_model, epochs=epochs, \n",
    "                           batch_size=batch_size, verbose=1)\n",
    "# define the grid search parameters\n",
    "\n",
    "param_grid = dict(epochs=epochs, batch_size=batches, init_mode=init_mode)\n",
    "grid = GridSearchCV(estimator=model_CV, param_grid=param_grid, n_jobs=-1, cv=3)\n",
    "grid_result = grid.fit(X_train, y_train)"
   ]
  }
 ],
 "metadata": {
  "kernelspec": {
   "display_name": "Python 3 (ipykernel)",
   "language": "python",
   "name": "python3"
  },
  "language_info": {
   "codemirror_mode": {
    "name": "ipython",
    "version": 3
   },
   "file_extension": ".py",
   "mimetype": "text/x-python",
   "name": "python",
   "nbconvert_exporter": "python",
   "pygments_lexer": "ipython3",
   "version": "3.9.7"
  }
 },
 "nbformat": 4,
 "nbformat_minor": 5
}
